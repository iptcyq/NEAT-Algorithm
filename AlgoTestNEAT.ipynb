{
 "cells": [
  {
   "cell_type": "markdown",
   "metadata": {},
   "source": [
    "Link to NEAT paper: https://nn.cs.utexas.edu/soft-view.php?SoftID=4"
   ]
  },
  {
   "cell_type": "code",
   "execution_count": 1,
   "metadata": {},
   "outputs": [
    {
     "ename": "ModuleNotFoundError",
     "evalue": "No module named 'matplotlib'",
     "output_type": "error",
     "traceback": [
      "\u001b[31m---------------------------------------------------------------------------\u001b[39m",
      "\u001b[31mModuleNotFoundError\u001b[39m                       Traceback (most recent call last)",
      "\u001b[36mCell\u001b[39m\u001b[36m \u001b[39m\u001b[32mIn[1]\u001b[39m\u001b[32m, line 3\u001b[39m\n\u001b[32m      1\u001b[39m \u001b[38;5;66;03m#init\u001b[39;00m\n\u001b[32m      2\u001b[39m \u001b[38;5;28;01mimport\u001b[39;00m\u001b[38;5;250m \u001b[39m\u001b[34;01mrandom\u001b[39;00m,\u001b[38;5;250m \u001b[39m\u001b[34;01mmath\u001b[39;00m\n\u001b[32m----> \u001b[39m\u001b[32m3\u001b[39m \u001b[38;5;28;01mimport\u001b[39;00m\u001b[38;5;250m \u001b[39m\u001b[34;01mmatplotlib\u001b[39;00m\u001b[34;01m.\u001b[39;00m\u001b[34;01mpyplot\u001b[39;00m\u001b[38;5;250m \u001b[39m\u001b[38;5;28;01mas\u001b[39;00m\u001b[38;5;250m \u001b[39m\u001b[34;01mplt\u001b[39;00m\n\u001b[32m      5\u001b[39m \u001b[38;5;66;03m# anyway goals for next time is to create a display to make sure stuff works\u001b[39;00m\n\u001b[32m      7\u001b[39m innovation = \u001b[32m0\u001b[39m \u001b[38;5;66;03m# Whenever a new gene appears, a global innovation number is incremented\u001b[39;00m\n",
      "\u001b[31mModuleNotFoundError\u001b[39m: No module named 'matplotlib'"
     ]
    }
   ],
   "source": [
    "#init\n",
    "import random, math\n",
    "import matplotlib.pyplot as plt\n",
    "\n",
    "# anyway goals for next time is to create a display to make sure stuff works\n",
    "\n",
    "innovation = 0 # Whenever a new gene appears, a global innovation number is incremented\n",
    "\n",
    "\n",
    "# configuration\n",
    "# init_mean = 0\n",
    "# init_stdev = 1.0\n",
    "# min = -20.0\n",
    "# max = 20.0\n",
    "# mutation_rate = 0.2\n",
    "# mutate_power = 1.2\n",
    "# replace_rate = 0.05"
   ]
  },
  {
   "cell_type": "markdown",
   "metadata": {},
   "source": [
    "#### Testing modules:\n",
    "\n",
    "draw_nodes(points_x, points_y) function\n",
    "draw_conns(lines_x, lines_y) function\n",
    "\n",
    "\n",
    "To do: reduce points_x, points_y down to purely coords"
   ]
  },
  {
   "cell_type": "code",
   "execution_count": 3,
   "metadata": {},
   "outputs": [
    {
     "data": {
      "image/png": "[encoded data removed]",
      "text/plain": [
       "<Figure size 432x288 with 1 Axes>"
      ]
     },
     "metadata": {},
     "output_type": "display_data"
    }
   ],
   "source": [
    "# drawing function\n",
    "def draw_point(points_x, points_y, lines_x, lines_y): \n",
    "    # draw points\n",
    "    plt.scatter(points_x, points_y, s=10) \n",
    "    for i in range(len(points_x)):\n",
    "        plt.text(points_x[i],points_y[i],f'n{i+1}')\n",
    "        \n",
    "    # draw lines\n",
    "    for i in range(0, len(lines_x), 2):\n",
    "        # Plot the number in the list and set the line thickness.\n",
    "        plt.plot(lines_x[i:i+2], lines_y[i:i+2], linewidth=1)\n",
    "    \n",
    "    # Set chart title.\n",
    "    plt.title(\"Graphical Representation\", fontsize=10)\n",
    "    \n",
    "    # Set x axis label.\n",
    "#     plt.xlabel(\"x\", fontsize=10)\n",
    "    # Set y axis label.\n",
    "#     plt.ylabel(\"y\", fontsize=10)\n",
    "    # Set size of tick labels. \n",
    "#     plt.tick_params(axis='both', which='major', labelsize=9)\n",
    "    \n",
    "    # Display plot\n",
    "    plt.show()\n",
    "\n",
    "    \n",
    "points_x = [2.94,3.06]\n",
    "points_y = [9,9]\n",
    "x_number_values = [2.94, 3.06]\n",
    "y_number_values = [9, 9]\n",
    "draw_point(points_x, points_y, x_number_values, y_number_values)"
   ]
  },
  {
   "cell_type": "code",
   "execution_count": 24,
   "metadata": {},
   "outputs": [],
   "source": [
    "# drawing function\n",
    "def draw_nodes(coords): \n",
    "    points_x = [x[0] for x in coords]\n",
    "    points_y = [x[1] for x in coords]\n",
    "    \n",
    "    # draw points\n",
    "    plt.scatter(points_x, points_y, s=10) \n",
    "    for i in range(len(points_x)):\n",
    "        plt.text(points_x[i],points_y[i],f'n{i+1}')\n",
    "        \n",
    "def draw_conns(coords, weights):\n",
    "    lines_x = [c[0] for c in coords]\n",
    "    lines_y = [c[1] for c in coords]\n",
    "    \n",
    "    # draw lines\n",
    "    count = 0\n",
    "    for i in range(0, len(lines_x), 2):\n",
    "        # Plot the number in the list and set the line thickness.\n",
    "#         if enabled[count]:\n",
    "        plt.plot(lines_x[i:i+2], lines_y[i:i+2], linewidth=1)\n",
    "        plt.text( ( lines_x[i] + lines_x[i+1] )/2.0 , ( lines_y[i] + lines_y[i+1] )/2.0 ,f'{weights[count]}')\n",
    "        count += 1\n",
    "    \n",
    "def draw(node_coords, conn_coords, conn_weights):\n",
    "    plt.clf() # clear plot\n",
    "    \n",
    "    draw_nodes(node_coords)\n",
    "    draw_conns(conn_coords, conn_weights)\n",
    "    \n",
    "    # Set chart title.\n",
    "    plt.title(\"Graphical Representation\", fontsize=10)\n",
    "    \n",
    "    # Display plot\n",
    "    plt.show()\n",
    "    \n",
    "    # potentially add a way to display weights in the middle of connections"
   ]
  },
  {
   "cell_type": "code",
   "execution_count": 5,
   "metadata": {},
   "outputs": [],
   "source": [
    "def sigmoid(x):\n",
    "    return 1/(1+math.exp(-x))"
   ]
  },
  {
   "cell_type": "markdown",
   "metadata": {},
   "source": [
    "### Define the Representation:\n",
    "\n",
    "Design a genome representation that represents the neural network structure. It typically consists of nodes and connections.\n",
    "Each node represents a neuron, and each connection represents a synapse connecting two neurons.\n",
    "Assign unique IDs to each node and connection."
   ]
  },
  {
   "cell_type": "code",
   "execution_count": null,
   "metadata": {},
   "outputs": [],
   "source": [
    "# Constructing the general model then exporting it in a string form?"
   ]
  },
  {
   "cell_type": "code",
   "execution_count": 4,
   "metadata": {},
   "outputs": [],
   "source": [
    "class Node(): # gene\n",
    "    def __init__(self, node_type, enabled=True):\n",
    "        # \"Node genes provide a list of inputs, hidden nodes, and outputs that can be connected.\"\n",
    "        self.node_type = node_type # sensor, hidden, output\n",
    "        self.connections = [] # contains connections in the next step only CHANGE: connections from previous step\n",
    "        \n",
    "        self.coords = (0,0) # coords in display\n",
    "        self.enabled = enabled \n",
    "        self.bias = 0 \n",
    "        \n",
    "        self.data = 0\n",
    "    \n",
    "    def __str__(self):\n",
    "        return f\"[Node; Type:{self.node_type}; {len(self.connections)} connections; Coords: {self.coords}]\"\n",
    "    \n",
    "    # for getting data: the usage of model might actually want to use strings instead?\n",
    "    def get_data(self):\n",
    "        return self.data\n",
    "    \n",
    "    def add_connection(self, conn):\n",
    "        self.connections.append(conn)\n",
    "\n",
    "class Connection():\n",
    "    def __init__(self, in_node, out_node, weight, enabled=True):\n",
    "        global innovation\n",
    "        \n",
    "        self.in_node = in_node\n",
    "        self.out_node = out_node\n",
    "        self.weight = float(weight)\n",
    "        \n",
    "        self.enabled = enabled # is the connection in use\n",
    "        self.innov = innovation # innovation marker - age of the connection\n",
    "    \n",
    "    def __str__(self):\n",
    "        return f\"[Connection; {self.in_node.coords}:{self.out_node.coords}; Weight:{self.weight}; Enabled:{self.enabled}; Gen:{self.innov}]\""
   ]
  },
  {
   "cell_type": "code",
   "execution_count": 45,
   "metadata": {},
   "outputs": [],
   "source": [
    "class Sensor_Node(Node): # no of sensor nodes all same - bias node also sensor\n",
    "    def __init__(self):\n",
    "        super().__init__(\"Sensor\")\n",
    "\n",
    "class Hidden_Node(Node):\n",
    "    def __init__(self):\n",
    "        super().__init__(\"Hidden\")\n",
    "        \n",
    "    def calc_data(self): # not sure about implementing matrices yet\n",
    "        data = 0\n",
    "        for conn in self.connections:\n",
    "            data += conn.in_node.get_data() * conn.weight\n",
    "        data += self.bias\n",
    "        self.data = sigmoid(data)\n",
    "        \n",
    "        return self.data\n",
    "\n",
    "class Output_Node(Node):\n",
    "    def __init__(self):\n",
    "        super().__init__(\"Output\")\n",
    "        \n",
    "    # for get_data - value should define a certain amplitude\n",
    "    def calc_data(self):\n",
    "        data = 0\n",
    "        for conn in self.connections:\n",
    "            data += conn.in_node.get_data() * conn.weight\n",
    "        data += self.bias\n",
    "        self.data = sigmoid(data)\n",
    "        \n",
    "        return self.data"
   ]
  },
  {
   "cell_type": "code",
   "execution_count": 53,
   "metadata": {},
   "outputs": [],
   "source": [
    "# more future past self me here - I'm implementing my kind of scuffed connection and node collection as genome\n",
    "# I think it is what I was trying to do last time but I'm not completely sure cos I'm not exactly reading the paper\n",
    "# hehe good luck \n",
    "\n",
    "# ok yea update again I redid the connections and nodes part but haven't touched mutations, future problem for future me, aka you :)\n",
    "\n",
    "class Genome(): # Houses genes and connections\n",
    "    def __init__(self):\n",
    "        # changed from list of nodes to separate sensors, output and hidden lists\n",
    "        self.sensors = []\n",
    "        self.output = []\n",
    "        self.hidden = []\n",
    "        self.Connections = []\n",
    "        \n",
    "        self.innovation = 0\n",
    "        \n",
    "    def __str__(self):\n",
    "        return \"[Model; {len(self.Nodes)} nodes; {len(self.Connections)} connections; Innovation: {self.innovation}]\"\n",
    "    \n",
    "    def Display(self): # can draw the boxes some other time # I drew the boxes alr so not much need for this now\n",
    "        print()\n",
    "        for i, conn in enumerate(self.Connections):\n",
    "            print(f\"{i}: {conn.in_node} -> {conn.out_node} \") if conn.enabled else print(f\"{i}: {conn.in_node} -> {conn.out_node} DIS\") \n",
    "   \n",
    "    def calc_coords(self):\n",
    "        for count,i in enumerate(self.sensors):\n",
    "            i.coords = (0, (count+1)/(len(self.sensors)+1))\n",
    "        for count,j in enumerate(self.hidden):\n",
    "            # note for future me\n",
    "            # try? to calculate x value for hidden layers to be easier maybe\n",
    "            j.coords = (1, (count+1)/(len(self.hidden)+1))\n",
    "        for count,k in enumerate(self.output):\n",
    "            k.coords = (2, (count+1)/(len(self.output)+1))\n",
    "    \n",
    "    def Draw(self): # draw the model thing\n",
    "        # scuffed as shit till you fix it\n",
    "        # but ye have insufficient skill to do it so\n",
    "        \n",
    "        self.calc_coords()\n",
    "        node_coords, conn_coords, conn_weights = [], [], []\n",
    "\n",
    "#         node_coords = [s.coords for s in self.sensors] + [o.coords for o in self.output] + [h.coords for h in self.hidden]\n",
    "#         conn_coords = [[conn.in_node.coords, conn.out_node.coords] for conn in self.Connections]\n",
    "#         conn_weights = [conn.weight for conn in self.Connections]\n",
    "#         conn_enabled = [conn.enabled for conn in self.Connections]\n",
    "        \n",
    "        for i in self.sensors: # diplay all sensors\n",
    "            node_coords.append(i.coords)\n",
    "            for j in i.connections:\n",
    "                if j.enabled:\n",
    "                    conn_coords.append(i.coords)\n",
    "                    conn_coords.append(j.out_node.coords)\n",
    "                    conn_weights.append(j.weight)\n",
    "\n",
    "        for k in self.output: # display output\n",
    "            node_coords.append(k.coords)\n",
    "            \n",
    "        for l in self.hidden: # display hidden\n",
    "            if l.enabled: # only if node is enabled\n",
    "                node_coords.append(l.coords)\n",
    "                for m in l.connections:\n",
    "                    if m.enabled:\n",
    "                        conn_coords.append(l.coords)\n",
    "                        conn_coords.append(m.out_node.coords)\n",
    "                        conn_weights.append(m.weight)\n",
    "\n",
    "        draw(node_coords, conn_coords, conn_weights)\n",
    "\n",
    "    def create_connection(self, in_node, out_node, weight, enabled=True): \n",
    "        # I realised how difficult this would be to directly get nodes as arguments\n",
    "        # so change it to collecting indexes instead - (0,1) would be index 1 node in sensors\n",
    "        # haha no I changed my mind - direct nodes might be easier after all\n",
    "            \n",
    "        conn = Connection(in_node, out_node, weight, enabled)\n",
    "        in_node.add_connection(conn)\n",
    "        self.Connections.append(conn)\n",
    "        \n",
    "    def create_node(self, typ):\n",
    "        if typ == \"Sensor\":\n",
    "            self.sensors.append(Sensor_Node())\n",
    "        elif typ == \"Output\":\n",
    "            self.output.append(Output_Node())\n",
    "        elif typ == \"Hidden\":\n",
    "            self.hidden.append(Hidden_Node())\n",
    "        else:\n",
    "            print(\"Apa what invalid type - change it before you mess everything else up\")\n",
    "        \n",
    "    def get_connections(self):\n",
    "        enabled_conns = [] \n",
    "        for conn in self.Connections:\n",
    "            if conn.enabled:\n",
    "                enabled_conns.append(conn)\n",
    "        return enabled_conns\n",
    "\n",
    "    def Mutate(self): # incomplete\n",
    "        global innovation \n",
    "        innovation += 1\n",
    "        \n",
    "#         Mutate_Add_Conn_Rate\n",
    "#         Mutate_Add_Node_Rate\n",
    "        \n",
    "        \n",
    "        pass\n",
    "    \n",
    "    # Structural mutation:\n",
    "    def Mutate_Add_Conn(self): # a single new connection gene with a random weight is added connecting two previously unconnected nodes\n",
    "        nodes = self.sensors + self.output + self.hidden\n",
    "        connections = self.get_connections() # this would only get enabled connections - correct?\n",
    "        random_weight = random.uniform(0,1) # how random is random? (0 to 1)? - according to algo parameters, add to current bias\n",
    "        random_node1, random_node2 = random.choices(nodes, k=2)\n",
    "\n",
    "        count = 0\n",
    "        test_limit = 10 # limit testing for now \n",
    "        \n",
    "        # maximum connections is total_input*total_hidden + total_hidden*total_output\n",
    "        while True or count < test_limit: # need add except where all are connected \n",
    "            valid = True\n",
    "            for conn in connections: # could be better\n",
    "                # rather than a for loop just store in and out nodes as tuples in conns\n",
    "                # then do (if (random_node1, random_node2) in conn.connecteed_nodes)\n",
    "                \n",
    "                # should do another check to to only support feed forward connection\n",
    "                if (random_node1 in [conn.in_node, conn.out_node]) and (random_node2 in [conn.in_node, conn.out_node]):\n",
    "                    valid = False\n",
    "                elif random_node1.node_type == \"Output\" or random_node2.node_type == \"Sensor\":\n",
    "                    valid = False\n",
    "            \n",
    "            if not valid:\n",
    "                random_node1, random_node2 = random.choices(nodes, k=2)\n",
    "                count += 1\n",
    "            else:\n",
    "                break\n",
    "            \n",
    "        if count < test_limit:\n",
    "            print(\"Chose node 1 as\", random_node1)\n",
    "            print(\"Chose node 2 as\", random_node2)\n",
    "            new_conn = Connection(random_node1, random_node2, random_weight)\n",
    "            self.Connections.append(new_conn)\n",
    "            random_node1.add_connection(new_conn)\n",
    "\n",
    "            print(\"Mutated: Connection Added\")\n",
    "            print(new_conn)\n",
    "            return True\n",
    "        else:\n",
    "            print(\"Mutation testing too long.\")\n",
    "            return False\n",
    "\n",
    "    def Mutate_Add_Node(self): # an existing connection is split and the new node placed where the old connection used to be\n",
    "        # The old connection is disabled and two new connections are added to the genome.\n",
    "        random_conn = random.choice(self.get_connections())\n",
    "        random_conn.enabled = False\n",
    "        self.create_node(\"Hidden\")\n",
    "\n",
    "        # The new connection leading into the new node receives a weight of 1\n",
    "        self.create_connection(random_conn.in_node, self.hidden[-1], 1.0)\n",
    "\n",
    "        # the new connection leading out receives the same weight as the old connection\n",
    "        self.create_connection(self.hidden[-1], random_conn.out_node, random_conn.weight)\n",
    "\n",
    "    def Mutate_Conn_Weight(self):\n",
    "        mutation_magnitude = 0.1 # idk can be changed (0.1 - 0.3)?\n",
    "        \n",
    "        random_conn = random.choice(self.get_connections()) # randomly choose an enabled connection\n",
    "#         random_conn.conn_weight = random.uniform(0,1) # randomise weight\n",
    "        random_conn.weight += round(random.gauss(0, mutation_magnitude), 16) # randomise weight to 16 dp?\n",
    "        \n",
    "        # ok this is pretty wrong\n",
    "        # looking at video it should follow some normal distribution thingy \n",
    "        # search for \"NEAT algorithm from scratch (it was hard)\"\" by Tech with Nikola\n",
    "    \n",
    "    def Mutate_Conn_Enabled(self):\n",
    "        # switches connection activation (activate/ deactivate random connections)\n",
    "        random_conn = random.choice(self.Connections) # randomly choose an enabled connection\n",
    "        random_conn.enabled = not random_conn.enabled\n",
    "    \n",
    "    def Mutate_Node_Enabled(self):\n",
    "        # switches node activation (activate/deactivate random nodes)\n",
    "        # for deactivating neuron, just need to \"disable\" but not actually disable all its connections\n",
    "        # done by removing connections from self.Connections and marking neuron as disable\n",
    "        # need to check if neuron is disabled before doing stuff\n",
    "        \n",
    "        random_node = random.choice(self.hidden)\n",
    "        random_node.enabled = not random_node.enabled\n",
    "\n",
    "    def Mutate_Node_Bias(self):\n",
    "        # bias of existing nodes can be mutated during the evolution process. \n",
    "        # This mutation involves adding a random value to the current bias value. \n",
    "        # The magnitude of the random value and the probability of mutation are determined by the algorithm's parameters.\n",
    "        pass\n",
    "    "
   ]
  },
  {
   "cell_type": "markdown",
   "metadata": {},
   "source": [
    "#### Code testing:"
   ]
  },
  {
   "cell_type": "code",
   "execution_count": 33,
   "metadata": {},
   "outputs": [
    {
     "data": {
      "image/png": "[encoded data removed]",
      "text/plain": [
       "<Figure size 432x288 with 1 Axes>"
      ]
     },
     "metadata": {},
     "output_type": "display_data"
    }
   ],
   "source": [
    "# midway check - 10/01/2024\n",
    "# print nodes and connections to make sure they work - doing pg 9 example\n",
    "\n",
    "# points_x, points_y is coordinates of points\n",
    "# conns_x, conns_y connects every two coordinates together\n",
    "# draw_point(points_x, points_y, conns_x, conns_y) - the function\n",
    "\n",
    "sensors = []\n",
    "hidden = []\n",
    "output = []\n",
    "\n",
    "# always add node coords in this order: sensors, output, hidden - but printing layer is sensors, hidden, output\n",
    "for i in range(3):\n",
    "    sensors.append(Sensor_Node())\n",
    "    sensors[i].coords = (0,(i*1)/2)\n",
    "    \n",
    "output.append(Output_Node())\n",
    "output[0].coords = (2,.5)\n",
    "\n",
    "hidden.append(Hidden_Node())\n",
    "hidden[0].coords = (1,.4)\n",
    "\n",
    "sensors[0].add_connection(Connection(sensors[0], output[0], 0.7, enabled=True))\n",
    "sensors[1].add_connection(Connection(sensors[1], output[0], 0.5, enabled=False))\n",
    "sensors[2].add_connection(Connection(sensors[2], output[0], 0.5, enabled=True))\n",
    "sensors[1].add_connection(Connection(sensors[1], hidden[0], 0.2, enabled=True))\n",
    "hidden[0].add_connection(Connection(hidden[0], output[0], 0.4, enabled=True))\n",
    "sensors[0].add_connection(Connection(sensors[0], hidden[0], 0.6, enabled=True))\n",
    "\n",
    "# n4.add_connection(Connection(n4, n5, 0.6, enabled=True)) \n",
    "# this backwards one seems to be possible but I'll leave it out of my code for now\n",
    "\n",
    "node_coords, conn_coords, conn_weights = [], [], []\n",
    "\n",
    "for i in sensors: # diplay all sensors\n",
    "    node_coords.append(i.coords)\n",
    "    for j in i.connections:\n",
    "        if j.enabled:\n",
    "            conn_coords.append(i.coords)\n",
    "            conn_coords.append(j.out_node.coords)\n",
    "            conn_weights.append(j.weight)\n",
    "\n",
    "for k in output: # display output\n",
    "    node_coords.append(k.coords)\n",
    "\n",
    "for l in hidden: # display hidden\n",
    "    node_coords.append(l.coords)\n",
    "    for m in l.connections:\n",
    "        if m.enabled:\n",
    "            conn_coords.append(l.coords)\n",
    "            conn_coords.append(m.out_node.coords)\n",
    "            conn_weights.append(m.weight)\n",
    "\n",
    "draw(node_coords, conn_coords, conn_weights)"
   ]
  },
  {
   "cell_type": "markdown",
   "metadata": {},
   "source": [
    "Same code testing but using the classes"
   ]
  },
  {
   "cell_type": "code",
   "execution_count": 54,
   "metadata": {},
   "outputs": [
    {
     "data": {
      "image/png": "[encoded data removed]",
      "text/plain": [
       "<Figure size 432x288 with 1 Axes>"
      ]
     },
     "metadata": {},
     "output_type": "display_data"
    }
   ],
   "source": [
    "g = Genome()\n",
    "\n",
    "# always add node coords in this order: sensors, output, hidden - but printing layer is sensors, hidden, output\n",
    "for i in range(3):\n",
    "    g.create_node(\"Sensor\")\n",
    "    \n",
    "g.create_node(\"Output\")\n",
    "g.create_node(\"Hidden\")\n",
    "\n",
    "g.create_connection(g.sensors[0], g.output[0], 0.7)\n",
    "g.create_connection(g.sensors[1], g.output[0], 0.5, enabled=False)\n",
    "g.create_connection(g.sensors[2], g.output[0], 0.5)\n",
    "g.create_connection(g.sensors[1], g.hidden[0], 0.2)\n",
    "g.create_connection(g.hidden[0], g.output[0], 0.4)\n",
    "g.create_connection(g.sensors[0], g.hidden[0], 0.6)\n",
    "\n",
    "# n4.add_connection(Connection(n4, n5, 0.6, enabled=True)) \n",
    "# this backwards one seems to be possible but I'll leave it out of my code for now\n",
    "\n",
    "g.Draw()\n",
    "# g.Mutate_Add_Conn()\n",
    "# g.Draw()"
   ]
  },
  {
   "cell_type": "code",
   "execution_count": 67,
   "metadata": {},
   "outputs": [
    {
     "data": {
      "image/png": "[encoded data removed]",
      "text/plain": [
       "<Figure size 432x288 with 1 Axes>"
      ]
     },
     "metadata": {},
     "output_type": "display_data"
    }
   ],
   "source": [
    "g.Mutate_Add_Node()\n",
    "g.Draw()\n",
    "\n",
    "# ok ye I think this finally works too"
   ]
  },
  {
   "cell_type": "markdown",
   "metadata": {},
   "source": [
    "Testing other mutations:"
   ]
  },
  {
   "cell_type": "code",
   "execution_count": 38,
   "metadata": {},
   "outputs": [
    {
     "data": {
      "image/png": "[encoded data removed]",
      "text/plain": [
       "<Figure size 432x288 with 1 Axes>"
      ]
     },
     "metadata": {},
     "output_type": "display_data"
    }
   ],
   "source": [
    "# Mutate change conn weight\n",
    "g.Mutate_Conn_Weight()\n",
    "g.Draw()"
   ]
  },
  {
   "cell_type": "code",
   "execution_count": 55,
   "metadata": {},
   "outputs": [
    {
     "data": {
      "image/png": "[encoded data removed]",
      "text/plain": [
       "<Figure size 432x288 with 1 Axes>"
      ]
     },
     "metadata": {},
     "output_type": "display_data"
    }
   ],
   "source": [
    "# Mutate change enabled\n",
    "# g.Mutate_Conn_Enabled()\n",
    "g.Mutate_Node_Enabled()\n",
    "g.Draw()"
   ]
  },
  {
   "cell_type": "code",
   "execution_count": 56,
   "metadata": {},
   "outputs": [
    {
     "name": "stdout",
     "output_type": "stream",
     "text": [
      "0.5\n"
     ]
    }
   ],
   "source": [
    "# test data functions\n",
    "g.sensors[0].data = 0.6\n",
    "g.sensors[1].data = 0.7\n",
    "g.sensors[2].data = 0.8\n",
    "\n",
    "for node in g.hidden:\n",
    "    node.calc_data()\n",
    "g.output[0].calc_data()\n",
    "\n",
    "print(g.output[0].data)"
   ]
  },
  {
   "cell_type": "code",
   "execution_count": null,
   "metadata": {},
   "outputs": [],
   "source": [
    "# additional mutations:\n",
    "# switches connection activation (activate/ deactivate random connections)\n",
    "# switches node activation (activate/deactivate random nodes)"
   ]
  },
  {
   "cell_type": "code",
   "execution_count": 10,
   "metadata": {},
   "outputs": [],
   "source": [
    "# and crap I havent tested any of this yet - cant wait to find out some buggy thing (currently at pg12, before 3.3)\n",
    "# ok good for you future me, I tested till the nodes and connections bit, trying to see if I can decipher the genome part now\n",
    "# hello this is slightly future me - I tested the rest of the code already so progress so far should be working"
   ]
  },
  {
   "cell_type": "markdown",
   "metadata": {},
   "source": [
    "### Initialization:\n",
    "\n",
    "Generate an initial population of genomes with random neural network structures.\n",
    "Assign fitness scores to each genome based on their performance in the problem domain."
   ]
  },
  {
   "cell_type": "code",
   "execution_count": null,
   "metadata": {},
   "outputs": [],
   "source": [
    "# implementation"
   ]
  },
  {
   "cell_type": "markdown",
   "metadata": {},
   "source": [
    "### Evaluation:\n",
    "\n",
    "For each genome, create a neural network based on its structure.\n",
    "Evaluate the performance of the neural network on the problem/task.\n",
    "Assign fitness scores to the genomes based on their performance."
   ]
  },
  {
   "cell_type": "code",
   "execution_count": null,
   "metadata": {},
   "outputs": [],
   "source": []
  },
  {
   "cell_type": "markdown",
   "metadata": {},
   "source": [
    "### Selection:\n",
    "\n",
    "Select the fittest genomes from the population for reproduction.\n",
    "Use a selection method, such as tournament selection or roulette wheel selection, to choose the parents."
   ]
  },
  {
   "cell_type": "code",
   "execution_count": null,
   "metadata": {},
   "outputs": [],
   "source": []
  },
  {
   "cell_type": "markdown",
   "metadata": {},
   "source": [
    "### Reproduction:\n",
    "\n",
    "Generate offspring by applying genetic operators (mutation and crossover) to the selected parents.\n",
    "Mutation: Modify the structure or parameters of a genome, such as adding a new node or changing a connection weight.\n",
    "Crossover: Combine the structure and parameters of two parent genomes to create a new offspring."
   ]
  },
  {
   "cell_type": "code",
   "execution_count": null,
   "metadata": {},
   "outputs": [],
   "source": [
    "# something about using hitorical (innov) number but idk what\n",
    "# using it to line up genes from genome parents\n",
    "# matching are randomly chosen\n",
    "# excess and disjoint always included from more fit one\n",
    "\n",
    "# matching genes are inherited\n",
    "# disjoint genes (sam enumber of genese)\n",
    "# excess genes (where one has more than the other)\n",
    "# disjoint and excess arre inherited randomly\n",
    "\n",
    "# page 12/13\n",
    "\n",
    "# if a gene was disabled in a parent, it has a 75% chance of staying disabled\n",
    "# page 15"
   ]
  },
  {
   "cell_type": "code",
   "execution_count": null,
   "metadata": {},
   "outputs": [],
   "source": []
  },
  {
   "cell_type": "markdown",
   "metadata": {},
   "source": [
    "### Speciation:\n",
    "\n",
    "Divide the population into species based on their structural similarity.\n",
    "Use a distance metric to measure the similarity between genomes.\n",
    "Maintain representative genomes for each species."
   ]
  },
  {
   "cell_type": "code",
   "execution_count": null,
   "metadata": {},
   "outputs": [],
   "source": [
    "# splits up the population into several species \n",
    "# based on the similarity of topology and connections"
   ]
  },
  {
   "cell_type": "code",
   "execution_count": null,
   "metadata": {},
   "outputs": [],
   "source": [
    "# the more disjoint two genomes are, the less evolutionary history they share, less compatibility distance\n",
    "\n",
    "# these variables can be tweaked\n",
    "c1 = 1 # excess_weight\n",
    "c2 = 1 # disjoint_weight\n",
    "c3 = 1 # weight for avg_weight_diff\n",
    "\n",
    "E= 0 # no_of_excess\n",
    "D = 0 # no_of_disjoint\n",
    "W_avg = 0 # avg_weight_diff_of_matching\n",
    "N = 0 # no_of_genes\n",
    "\n",
    "compatibility_distance = (c1 * E + c2 * D)/N + c3 * W_avg"
   ]
  },
  {
   "cell_type": "markdown",
   "metadata": {},
   "source": [
    "### Population Control:\n",
    "\n",
    "Control the size of the population by removing low-performing genomes.\n",
    "Apply techniques like elitism (preserving the best genomes) to maintain the best solutions."
   ]
  },
  {
   "cell_type": "code",
   "execution_count": null,
   "metadata": {},
   "outputs": [],
   "source": []
  },
  {
   "cell_type": "markdown",
   "metadata": {},
   "source": [
    "### Repeat:\n",
    "\n",
    "Iterate the evaluation, selection, reproduction, and speciation steps for multiple generations.\n",
    "Allow the population to evolve over time."
   ]
  },
  {
   "cell_type": "code",
   "execution_count": null,
   "metadata": {},
   "outputs": [],
   "source": []
  },
  {
   "cell_type": "markdown",
   "metadata": {},
   "source": [
    "### Termination:\n",
    "\n",
    "Decide the termination condition, such as reaching a maximum number of generations or achieving a satisfactory solution.\n",
    "Once the termination condition is met, select the best genome(s) from the final population as the solution(s)."
   ]
  },
  {
   "cell_type": "code",
   "execution_count": null,
   "metadata": {},
   "outputs": [],
   "source": []
  }
 ],
 "metadata": {
  "kernelspec": {
   "display_name": "Python 3 (ipykernel)",
   "language": "python",
   "name": "python3"
  },
  "language_info": {
   "codemirror_mode": {
    "name": "ipython",
    "version": 3
   },
   "file_extension": ".py",
   "mimetype": "text/x-python",
   "name": "python",
   "nbconvert_exporter": "python",
   "pygments_lexer": "ipython3",
   "version": "3.13.1"
  }
 },
 "nbformat": 4,
 "nbformat_minor": 4
}
