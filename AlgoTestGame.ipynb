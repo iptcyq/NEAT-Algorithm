{
 "cells": [
  {
   "cell_type": "code",
   "execution_count": 1,
   "metadata": {},
   "outputs": [
    {
     "name": "stdout",
     "output_type": "stream",
     "text": [
      "pygame 2.1.2 (SDL 2.0.18, Python 3.6.4)\n",
      "Hello from the pygame community. https://www.pygame.org/contribute.html\n"
     ]
    }
   ],
   "source": [
    "import pygame, sys\n",
    "import math\n",
    "import random"
   ]
  },
  {
   "cell_type": "code",
   "execution_count": 2,
   "metadata": {},
   "outputs": [],
   "source": [
    "class Object:\n",
    "    def __init__(self, pos, size=(25,25), speed=0, colour=(0,0,0)):\n",
    "        self.pos = pos\n",
    "        self.rect = pygame.Rect(self.pos[0],self.pos[1],size[0],size[1])\n",
    "        self.speed = speed\n",
    "        self.colour = colour\n",
    "        \n",
    "    def render(self, screen):\n",
    "        pygame.draw.rect(screen, self.colour, self.rect)"
   ]
  },
  {
   "cell_type": "code",
   "execution_count": 3,
   "metadata": {},
   "outputs": [],
   "source": [
    "class Player(Object):\n",
    "    def __init__(self, pos):\n",
    "        super().__init__(pos, size=(25,25), speed=5, colour=(255,0,0))\n",
    "        self.movement = ([False, False], [False, False])\n",
    "        \n",
    "    def update(self, walls):\n",
    "        if self.movement[0][1] - self.movement[0][0] > 0 and self.movement[1][1] - self.movement[1][0] > 0:\n",
    "            speed = round(self.speed/math.sqrt(2))\n",
    "        else:\n",
    "            speed = self.speed\n",
    "\n",
    "        self.pos[0] += (self.movement[0][1] - self.movement[0][0])* speed\n",
    "        self.rect.x = self.pos[0]\n",
    "        for item in walls.walls:\n",
    "            if self.rect.colliderect(item.rect):\n",
    "                if self.movement[0][1] - self.movement[0][0] < 0:\n",
    "                    self.rect.left = item.rect.right\n",
    "                if self.movement[0][1] - self.movement[0][0] > 0:\n",
    "                    self.rect.right = item.rect.left\n",
    "                self.pos[0] = self.rect.x  \n",
    "                \n",
    "        self.pos[1] += (self.movement[1][1] - self.movement[1][0])* speed\n",
    "        self.rect.y = self.pos[1]\n",
    "        for item in walls.walls:\n",
    "            if self.rect.colliderect(item.rect):\n",
    "                if self.movement[1][1] - self.movement[1][0] < 0:\n",
    "                    self.rect.top = item.rect.bottom\n",
    "                elif self.movement[1][1] - self.movement[1][0] > 0:\n",
    "                    self.rect.bottom = item.rect.top\n",
    "                self.pos[1] = self.rect.y "
   ]
  },
  {
   "cell_type": "code",
   "execution_count": 4,
   "metadata": {},
   "outputs": [],
   "source": [
    "class Cop(Object):\n",
    "    def __init__(self, pos):\n",
    "        super().__init__(pos, size=(25,25), speed=2, colour=(0,0,255))\n",
    "\n",
    "    def update(self, walls, following=None):\n",
    "        # following is the Object class being followed\n",
    "        if following != None:\n",
    "            if self.pos[0] != following.pos[0] and self.pos[1] != following.pos[1]:\n",
    "                speed = round(self.speed/math.sqrt(2))\n",
    "            else:\n",
    "                speed = self.speed\n",
    "                \n",
    "            if self.pos[0] != following.pos[0]:\n",
    "                self.pos[0] += 2*((self.pos[0] < following.pos[0])-0.5) * self.speed\n",
    "                self.rect.x = self.pos[0]\n",
    "                \n",
    "            for item in walls.walls:\n",
    "                if self.rect.colliderect(item.rect):\n",
    "                    if self.pos[0] > following.pos[0]:\n",
    "                        self.rect.left = item.rect.right\n",
    "                    if self.pos[0] < following.pos[0]:\n",
    "                        self.rect.right = item.rect.left\n",
    "            self.pos[0] = self.rect.x\n",
    "            \n",
    "            if self.pos[1] != following.pos[1]:\n",
    "                self.pos[1] += 2*((self.pos[1] < following.pos[1])-0.5) * self.speed\n",
    "                self.rect.y = self.pos[1]\n",
    "\n",
    "            for item in walls.walls:\n",
    "                if self.rect.colliderect(item.rect):\n",
    "                    if self.pos[1] > following.pos[1]:\n",
    "                        self.rect.top = item.rect.bottom\n",
    "                    if self.pos[1] < following.pos[1]:\n",
    "                        self.rect.bottom = item.rect.top       \n",
    "            self.pos[1] = self.rect.y\n",
    "                    \n",
    "            if self.rect.colliderect(following.rect):\n",
    "                self.colour = (0,255,0)\n",
    "            else:\n",
    "                self.colour = (0,0,255)\n",
    "\n",
    "    def render(self, screen):\n",
    "        pygame.draw.rect(screen, self.colour, self.rect)"
   ]
  },
  {
   "cell_type": "code",
   "execution_count": 5,
   "metadata": {},
   "outputs": [],
   "source": [
    "class Coin(Object):\n",
    "    def __init__(self, pos):\n",
    "        super().__init__(pos, size=(20,20), colour=(255,255,0))\n",
    "        self.active = True\n",
    "        \n",
    "    def update(self, player, screen):\n",
    "        if not self.active:\n",
    "            # do not render but do not add points\n",
    "\n",
    "            # set new random location and set active again\n",
    "            self.pos[0] = random.randint(0,400)\n",
    "            self.pos[1] = random.randint(0,400)\n",
    "            self.rect.x = self.pos[0]\n",
    "            self.rect.y = self.pos[1]\n",
    "            \n",
    "            self.active = True\n",
    "            \n",
    "            return False\n",
    "        elif self.active and player.rect.colliderect(self.rect): # picked up\n",
    "            # delete self - do not render\n",
    "            self.active = False\n",
    "            return True  \n",
    "        else:\n",
    "            super().render(screen)\n",
    "            return False"
   ]
  },
  {
   "cell_type": "code",
   "execution_count": 6,
   "metadata": {},
   "outputs": [],
   "source": [
    "class Walls:\n",
    "    def __init__(self):\n",
    "        self.walls = []\n",
    "\n",
    "    def create_wall(self, pos, wall_size):\n",
    "        self.walls.append(Object(pos, size=wall_size))\n",
    "\n",
    "    def render(self, screen):\n",
    "        for wall in self.walls:\n",
    "            wall.render(screen)"
   ]
  },
  {
   "cell_type": "code",
   "execution_count": 7,
   "metadata": {},
   "outputs": [],
   "source": [
    "class Game:\n",
    "    def __init__(self):\n",
    "        pygame.init()\n",
    "        pygame.display.set_caption(\"top down test game\")\n",
    "        self.screen = pygame.display.set_mode((640,480))\n",
    "        self.clock = pygame.time.Clock()\n",
    "\n",
    "        self.player = Player([160,260])\n",
    "        self.cop = Cop([0,0])\n",
    "        self.coin = Coin([300,300])\n",
    "        self.walls = Walls()\n",
    "\n",
    "        self.points = 0\n",
    "        font = pygame.font.get_default_font()\n",
    "        self.font = pygame.font.SysFont(font, 30)\n",
    "        \n",
    "    def run(self):\n",
    "        while True:\n",
    "            self.screen.fill((255,255,255))\n",
    "\n",
    "            self.player.update(self.walls)\n",
    "            self.player.render(self.screen)\n",
    "\n",
    "            self.cop.update(self.walls, following=self.player)\n",
    "            self.cop.render(self.screen)\n",
    "\n",
    "            picked_coin = self.coin.update(self.player, self.screen)\n",
    "\n",
    "            self.walls.render(self.screen)\n",
    "            \n",
    "            if picked_coin:\n",
    "                self.points += 1\n",
    "            \n",
    "            text_surf = self.font.render(f'Points: {self.points}', True, (0,0,0))            \n",
    "            self.screen.blit(text_surf, (0,0))\n",
    "            \n",
    "            for event in pygame.event.get():\n",
    "                if event.type == pygame.QUIT:\n",
    "                    pygame.quit()\n",
    "                    sys.exit()\n",
    "                    \n",
    "                if event.type == pygame.KEYDOWN:\n",
    "                    if event.key == pygame.K_LEFT:\n",
    "                        self.player.movement[0][0] = True\n",
    "                    if event.key == pygame.K_RIGHT:\n",
    "                        self.player.movement[0][1] = True\n",
    "                    if event.key == pygame.K_UP:\n",
    "                        self.player.movement[1][0] = True\n",
    "                    if event.key == pygame.K_DOWN:\n",
    "                        self.player.movement[1][1] = True\n",
    "                if event.type == pygame.KEYUP:\n",
    "                    if event.key == pygame.K_LEFT:\n",
    "                        self.player.movement[0][0] = False\n",
    "                    if event.key == pygame.K_RIGHT:\n",
    "                        self.player.movement[0][1] = False\n",
    "                    if event.key == pygame.K_UP:\n",
    "                        self.player.movement[1][0] = False\n",
    "                    if event.key == pygame.K_DOWN:\n",
    "                        self.player.movement[1][1] = False\n",
    "                if event.type == pygame.MOUSEBUTTONDOWN:\n",
    "                    corner1 = pygame.mouse.get_pos()\n",
    "                if event.type == pygame.MOUSEBUTTONUP:\n",
    "                    corner2 = pygame.mouse.get_pos()\n",
    "                    size = (abs(corner1[0]-corner2[0]), abs(corner1[1]-corner2[1]))\n",
    "\n",
    "                    self.walls.create_wall(corner1, size)\n",
    "\n",
    "            pygame.display.update()\n",
    "            self.clock.tick(60)"
   ]
  },
  {
   "cell_type": "code",
   "execution_count": 8,
   "metadata": {},
   "outputs": [
    {
     "ename": "SystemExit",
     "evalue": "",
     "output_type": "error",
     "traceback": [
      "An exception has occurred, use %tb to see the full traceback.\n",
      "\u001b[1;31mSystemExit\u001b[0m\n"
     ]
    },
    {
     "name": "stderr",
     "output_type": "stream",
     "text": [
      "c:\\program files\\python36\\lib\\site-packages\\IPython\\core\\interactiveshell.py:2971: UserWarning: To exit: use 'exit', 'quit', or Ctrl-D.\n",
      "  warn(\"To exit: use 'exit', 'quit', or Ctrl-D.\", stacklevel=1)\n"
     ]
    }
   ],
   "source": [
    "Game().run()"
   ]
  }
 ],
 "metadata": {
  "kernelspec": {
   "display_name": "Python 3",
   "language": "python",
   "name": "python3"
  },
  "language_info": {
   "codemirror_mode": {
    "name": "ipython",
    "version": 3
   },
   "file_extension": ".py",
   "mimetype": "text/x-python",
   "name": "python",
   "nbconvert_exporter": "python",
   "pygments_lexer": "ipython3",
   "version": "3.6.4"
  }
 },
 "nbformat": 4,
 "nbformat_minor": 2
}
